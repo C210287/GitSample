{
  "nbformat": 4,
  "nbformat_minor": 0,
  "metadata": {
    "colab": {
      "provenance": [],
      "collapsed_sections": [],
      "authorship_tag": "ABX9TyOIsVgvToJsO8cKSyvNPMwb",
      "include_colab_link": true
    },
    "kernelspec": {
      "name": "python3",
      "display_name": "Python 3"
    },
    "language_info": {
      "name": "python"
    }
  },
  "cells": [
    {
      "cell_type": "markdown",
      "metadata": {
        "id": "view-in-github",
        "colab_type": "text"
      },
      "source": [
        "<a href=\"https://colab.research.google.com/github/C210287/GitSample/blob/master/Untitled2.ipynb\" target=\"_parent\"><img src=\"https://colab.research.google.com/assets/colab-badge.svg\" alt=\"Open In Colab\"/></a>"
      ]
    },
    {
      "cell_type": "code",
      "execution_count": 1,
      "metadata": {
        "colab": {
          "base_uri": "https://localhost:8080/"
        },
        "id": "D4AxevyKYGGS",
        "outputId": "c6b4af2e-d914-4753-a32c-7272352943e1"
      },
      "outputs": [
        {
          "output_type": "stream",
          "name": "stdout",
          "text": [
            "円周率は3.141592653589793です\n",
            "小数点以下を切り捨てれば3です\n",
            "小数点以下を切り上げれば4です\n"
          ]
        }
      ],
      "source": [
        "import math\n",
        "\n",
        "print ('円周率は{}です'. format(math.pi))\n",
        "print ('小数点以下を切り捨てれば{}です'. format(math.floor(math.pi)))\n",
        "print ('小数点以下を切り上げれば{}です'. format(math.ceil(math.pi)))"
      ]
    },
    {
      "cell_type": "code",
      "source": [
        "import math as m\n",
        "print ('import するモジュールのmath を　m で表す')\n",
        "print ('円周率は{}です'. format(math.pi))\n",
        "print ('小数点以下を切り捨てれば{}です'. format(math.floor(math.pi)))\n",
        "print ('小数点以下を切り上げれば{}です'. format(math.ceil(math.pi)))"
      ],
      "metadata": {
        "colab": {
          "base_uri": "https://localhost:8080/"
        },
        "id": "yB_C09EZcd3B",
        "outputId": "30843ae6-cf36-42b8-9d07-ac1e56e1c4fa"
      },
      "execution_count": 2,
      "outputs": [
        {
          "output_type": "stream",
          "name": "stdout",
          "text": [
            "import するモジュールのmath を　m で表す\n",
            "円周率は3.141592653589793です\n",
            "小数点以下を切り捨てれば3です\n",
            "小数点以下を切り上げれば4です\n"
          ]
        }
      ]
    }
  ]
}