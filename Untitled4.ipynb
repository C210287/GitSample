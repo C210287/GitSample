{
  "nbformat": 4,
  "nbformat_minor": 0,
  "metadata": {
    "colab": {
      "provenance": [],
      "authorship_tag": "ABX9TyN+T4P03k5X/jlXUmBwLVWf",
      "include_colab_link": true
    },
    "kernelspec": {
      "name": "python3",
      "display_name": "Python 3"
    },
    "language_info": {
      "name": "python"
    }
  },
  "cells": [
    {
      "cell_type": "markdown",
      "metadata": {
        "id": "view-in-github",
        "colab_type": "text"
      },
      "source": [
        "<a href=\"https://colab.research.google.com/github/C210287/GitSample/blob/master/Untitled4.ipynb\" target=\"_parent\"><img src=\"https://colab.research.google.com/assets/colab-badge.svg\" alt=\"Open In Colab\"/></a>"
      ]
    },
    {
      "cell_type": "code",
      "execution_count": 2,
      "metadata": {
        "colab": {
          "base_uri": "https://localhost:8080/"
        },
        "id": "RPdWSz-nAqAG",
        "outputId": "fd6b0ab4-8132-4d77-97d6-896c9fcc47f9"
      },
      "outputs": [
        {
          "output_type": "stream",
          "name": "stdout",
          "text": [
            "1\n",
            "END\n",
            "2\n",
            "END\n",
            "3\n",
            "END\n",
            "4\n",
            "END\n",
            "5\n",
            "END\n",
            "6\n",
            "END\n",
            "7\n",
            "END\n",
            "8\n",
            "END\n",
            "9\n",
            "END\n",
            "10\n",
            "END\n",
            "11\n",
            "END\n",
            "12\n",
            "END\n",
            "13\n",
            "END\n",
            "14\n",
            "END\n",
            "15\n",
            "END\n",
            "16\n",
            "END\n",
            "17\n",
            "END\n",
            "18\n",
            "END\n",
            "19\n",
            "END\n",
            "20\n",
            "END\n"
          ]
        }
      ],
      "source": [
        "import time\n",
        "\n",
        "for i in range (1,21,1):\n",
        "  print (i)\n",
        "  time.sleep(1)   # sleep is measured in second.\n",
        "\n",
        "  print (\"END\")"
      ]
    }
  ]
}